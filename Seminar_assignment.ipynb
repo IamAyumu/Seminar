{
 "cells": [
  {
   "cell_type": "markdown",
   "id": "ee084329",
   "metadata": {},
   "source": [
    "# 塚原ゼミ 夏休み宿題"
   ]
  },
  {
   "cell_type": "markdown",
   "id": "9dce909a",
   "metadata": {},
   "source": [
    "## 問1"
   ]
  },
  {
   "cell_type": "code",
   "execution_count": 1,
   "id": "05f67c5e",
   "metadata": {},
   "outputs": [],
   "source": [
    "def diet():\n",
    "    height = float(input(\"Please enter your height (m): \"))\n",
    "    weight = float(input(\"Please enter your weight (kg): \"))\n",
    "    BM = weight / height / height\n",
    "    BMI = round(BM, 1)\n",
    "\n",
    "    if (BMI < 18.5):\n",
    "        print(\"Your BMI is: \", \"{:.1f}\".format(BMI), \". 低体重です.\")\n",
    "    elif (BMI >= 18.5 and BMI < 25):\n",
    "        print(\"Your BMI is: \", \"{:.1f}\".format(BMI), \". 普通体重です\")\n",
    "    elif (BMI >= 25 and BMI < 30):\n",
    "        print(\"Your BMI is: \", \"{:.1f}\".format(BMI), \". 肥満1度です\")\n",
    "    elif (BMI >= 30 and BMI < 35):\n",
    "        print(\"Your BMI is: \", \"{:.1f}\".format(BMI), \". 肥満2度です\")\n",
    "    elif (BMI >= 35 and BMI < 40):\n",
    "        print(\"Your BMI is: \", \"{:.1f}\".format(BMI), \". 肥満3度です\")\n",
    "    elif (BMI >= 40):\n",
    "        print(\"Your BMI is: \", \"{:.1f}\".format(BMI), \". 肥満4度です\")\n",
    "    else:\n",
    "        print(\"Invalid input.\")\n",
    "\n",
    "    desirable = 22\n",
    "    if (BMI < 22):\n",
    "        difference = 22 - BMI\n",
    "        gain = difference * height * height\n",
    "        print(\"You need to gain \", \"{:.1f}\".format(gain), \"kg to get the desirable BMI of 22.\")\n",
    "    elif (BMI >= 22.0 and BMI < 23):\n",
    "        print(\"Your BMI is fine!\")\n",
    "    else:\n",
    "        difference = BMI - 22\n",
    "        loss = difference * height * height\n",
    "        print(\"You need to lose \", \"{:.1f}\".format(loss), \"kg to get the desirable BMI of 22.\")\n"
   ]
  },
  {
   "cell_type": "code",
   "execution_count": 2,
   "id": "b056593d",
   "metadata": {},
   "outputs": [
    {
     "name": "stdout",
     "output_type": "stream",
     "text": [
      "Please enter your height (m): 1.77\n",
      "Please enter your weight (kg): 60\n",
      "Your BMI is:  19.2 . 普通体重です\n",
      "You need to gain  8.8 kg to get the desirable BMI of 22.\n"
     ]
    }
   ],
   "source": [
    "diet()"
   ]
  },
  {
   "cell_type": "markdown",
   "id": "bdf259a3",
   "metadata": {},
   "source": [
    "## 問2"
   ]
  },
  {
   "cell_type": "code",
   "execution_count": 3,
   "id": "6fff1062",
   "metadata": {},
   "outputs": [],
   "source": [
    "import random\n",
    "import numpy as np\n",
    "from matplotlib import colors\n",
    "from matplotlib.ticker import PercentFormatter\n",
    "from matplotlib import pyplot as plt"
   ]
  },
  {
   "cell_type": "code",
   "execution_count": 4,
   "id": "4f9090e9",
   "metadata": {},
   "outputs": [],
   "source": [
    "def roll():\n",
    "  return random.randint(1, 6)"
   ]
  },
  {
   "cell_type": "code",
   "execution_count": 5,
   "id": "7ae1314a",
   "metadata": {},
   "outputs": [],
   "source": [
    "def two_dice():\n",
    "  x = input(\"数字を入力してください:\")\n",
    "  x = int(x)\n",
    "  i = 1\n",
    "  array = []\n",
    "\n",
    "  while i <= x:\n",
    "    dice1 = roll()\n",
    "    dice2 = roll()\n",
    "    dice = dice1 + dice2\n",
    "    array.append(int(dice))\n",
    "    i += 1\n",
    "\n",
    "  plt.xlabel(\"Total of dice\")\n",
    "  plt.ylabel(\"Number of times it shows up\")\n",
    "  plt.hist(array, bins=[2, 3, 4, 5, 6, 7, 8, 9, 10, 11, 12])\n",
    "  plt.title(\"two.dice\")\n",
    "  plt.show()"
   ]
  },
  {
   "cell_type": "code",
   "execution_count": 6,
   "id": "609e943f",
   "metadata": {},
   "outputs": [
    {
     "name": "stdout",
     "output_type": "stream",
     "text": [
      "数字を入力してください:1000000\n"
     ]
    },
    {
     "data": {
      "image/png": "[encoded data removed]",
      "text/plain": [
       "<Figure size 432x288 with 1 Axes>"
      ]
     },
     "metadata": {
      "needs_background": "light"
     },
     "output_type": "display_data"
    }
   ],
   "source": [
    "two_dice()"
   ]
  },
  {
   "cell_type": "markdown",
   "id": "2ec4242b",
   "metadata": {},
   "source": [
    "## 問3"
   ]
  },
  {
   "cell_type": "markdown",
   "id": "120fc6c0",
   "metadata": {},
   "source": [
    "### Chapter2"
   ]
  },
  {
   "cell_type": "markdown",
   "id": "eab4b1a8",
   "metadata": {},
   "source": [
    "### 2-1"
   ]
  },
  {
   "cell_type": "code",
   "execution_count": 7,
   "id": "d948a017",
   "metadata": {},
   "outputs": [
    {
     "name": "stdout",
     "output_type": "stream",
     "text": [
      "12200.0\n"
     ]
    }
   ],
   "source": [
    "\n",
    "n = 4\n",
    "m = 3\n",
    "c = 65200\n",
    "st = ((c / (2 * n + m)) // 1000 * 1000) * n\n",
    "ad = ((2 * c / (2 * n + m)) // 1000 * 1000) * m\n",
    "total = c - (st + ad)\n",
    "print(total)\n",
    "# ???"
   ]
  },
  {
   "cell_type": "code",
   "execution_count": 8,
   "id": "da7b7a11",
   "metadata": {},
   "outputs": [
    {
     "data": {
      "text/plain": [
       "3"
      ]
     },
     "execution_count": 8,
     "metadata": {},
     "output_type": "execute_result"
    }
   ],
   "source": [
    "15 % 6"
   ]
  },
  {
   "cell_type": "code",
   "execution_count": 9,
   "id": "eb7ccc4a",
   "metadata": {},
   "outputs": [
    {
     "data": {
      "text/plain": [
       "4"
      ]
     },
     "execution_count": 9,
     "metadata": {},
     "output_type": "execute_result"
    }
   ],
   "source": [
    "3 + 5 % 2"
   ]
  },
  {
   "cell_type": "code",
   "execution_count": 10,
   "id": "1415e497",
   "metadata": {},
   "outputs": [
    {
     "data": {
      "text/plain": [
       "8"
      ]
     },
     "execution_count": 10,
     "metadata": {},
     "output_type": "execute_result"
    }
   ],
   "source": [
    "32 // 4"
   ]
  },
  {
   "cell_type": "code",
   "execution_count": 11,
   "id": "466e61f5",
   "metadata": {},
   "outputs": [
    {
     "data": {
      "text/plain": [
       "9.0"
      ]
     },
     "execution_count": 11,
     "metadata": {},
     "output_type": "execute_result"
    }
   ],
   "source": [
    "7 + 2.0"
   ]
  },
  {
   "cell_type": "code",
   "execution_count": 12,
   "id": "317ffb29",
   "metadata": {},
   "outputs": [
    {
     "data": {
      "text/plain": [
       "0.0"
      ]
     },
     "execution_count": 12,
     "metadata": {},
     "output_type": "execute_result"
    }
   ],
   "source": [
    "4 - 8 / 2"
   ]
  },
  {
   "cell_type": "code",
   "execution_count": 13,
   "id": "65f1af20",
   "metadata": {},
   "outputs": [
    {
     "data": {
      "text/plain": [
       "0.6666666666666666"
      ]
     },
     "execution_count": 13,
     "metadata": {},
     "output_type": "execute_result"
    }
   ],
   "source": [
    "6 / 3 ** 2"
   ]
  },
  {
   "cell_type": "markdown",
   "id": "7424818d",
   "metadata": {},
   "source": [
    "### 2-2"
   ]
  },
  {
   "cell_type": "markdown",
   "id": "62443a70",
   "metadata": {},
   "source": [
    "#### 余りが計算されない"
   ]
  },
  {
   "cell_type": "markdown",
   "id": "e4ff74d1",
   "metadata": {},
   "source": [
    "### 2-3"
   ]
  },
  {
   "cell_type": "code",
   "execution_count": 14,
   "id": "49584fa5",
   "metadata": {},
   "outputs": [
    {
     "name": "stdout",
     "output_type": "stream",
     "text": [
      "19.5\n",
      "18.0\n"
     ]
    }
   ],
   "source": [
    "a = 12\n",
    "b = 27\n",
    "print((a + b) / 2)\n",
    "print((a * b) ** 0.5)"
   ]
  },
  {
   "cell_type": "markdown",
   "id": "d44cf3cc",
   "metadata": {},
   "source": [
    "### 2-4"
   ]
  },
  {
   "cell_type": "code",
   "execution_count": 15,
   "id": "0af6bf65",
   "metadata": {},
   "outputs": [
    {
     "name": "stdout",
     "output_type": "stream",
     "text": [
      "0.5\n"
     ]
    }
   ],
   "source": [
    "import math\n",
    "\n",
    "a = 2\n",
    "b = -3\n",
    "c = 1\n",
    "x = (- b - math.sqrt(b ** 2 - 4 * a * c)) / (2 * a)\n",
    "print(x)"
   ]
  },
  {
   "cell_type": "markdown",
   "id": "e350503a",
   "metadata": {},
   "source": [
    "### 2-5"
   ]
  },
  {
   "cell_type": "code",
   "execution_count": 16,
   "id": "0bdf875b",
   "metadata": {},
   "outputs": [
    {
     "name": "stdout",
     "output_type": "stream",
     "text": [
      "10050000.0\n",
      "10050112.650131324\n"
     ]
    }
   ],
   "source": [
    "m = 10000000\n",
    "m = m + m * (0.05 /100) * 10\n",
    "print(m)\n",
    "m = 10000000\n",
    "m = m * (1 + 0.05 / 100) ** 10\n",
    "print(m)"
   ]
  },
  {
   "cell_type": "markdown",
   "id": "c2edde96",
   "metadata": {},
   "source": [
    "### 2-6"
   ]
  },
  {
   "cell_type": "code",
   "execution_count": 17,
   "id": "b21fa460",
   "metadata": {},
   "outputs": [
    {
     "name": "stdout",
     "output_type": "stream",
     "text": [
      "12.0\n"
     ]
    }
   ],
   "source": [
    "vp = 6\n",
    "vs = 3\n",
    "t = 2\n",
    "d = (vp * vs) / (vp - vs) * t\n",
    "print(d)"
   ]
  },
  {
   "cell_type": "markdown",
   "id": "ef0e5735",
   "metadata": {},
   "source": [
    "### 2-7"
   ]
  },
  {
   "cell_type": "code",
   "execution_count": 18,
   "id": "87c6ee68",
   "metadata": {},
   "outputs": [
    {
     "name": "stdout",
     "output_type": "stream",
     "text": [
      "12200.0\n"
     ]
    }
   ],
   "source": [
    "n = 4\n",
    "m = 3\n",
    "c = 65200\n",
    "st = ((c / (2 * n + m)) // 1000 * 1000) * n\n",
    "ad = ((2 * c / (2 * n + m)) // 1000 * 1000) * m\n",
    "total = c - (st + ad)\n",
    "print(total)\n",
    "# ???分かりません"
   ]
  },
  {
   "cell_type": "markdown",
   "id": "0d65a9ea",
   "metadata": {},
   "source": [
    "### Chapter3"
   ]
  },
  {
   "cell_type": "markdown",
   "id": "4ed504be",
   "metadata": {},
   "source": [
    "### 3-1"
   ]
  },
  {
   "cell_type": "code",
   "execution_count": 19,
   "id": "c307a188",
   "metadata": {},
   "outputs": [],
   "source": [
    "def square(x):\n",
    "  print('end of square')\n",
    "  return x * x\n",
    "# xが定義されていない"
   ]
  },
  {
   "cell_type": "markdown",
   "id": "bbf860ab",
   "metadata": {},
   "source": [
    "### 3-2"
   ]
  },
  {
   "cell_type": "code",
   "execution_count": 20,
   "id": "13f90b85",
   "metadata": {},
   "outputs": [
    {
     "name": "stdout",
     "output_type": "stream",
     "text": [
      "6.123233995736766e-17\n",
      "0.6931471805599453\n",
      "3.885780586188048e-16\n"
     ]
    }
   ],
   "source": [
    "import math\n",
    "\n",
    "print(math.cos(math.pi/2))\n",
    "print(math.log(2))\n",
    "print(math.sin(math.pi / 3) * math.cos(math.pi * 2 / 3) + math.cos(math.pi / 3) * math.sin(math.pi * 2 / 3))"
   ]
  },
  {
   "cell_type": "markdown",
   "id": "3fad2873",
   "metadata": {},
   "source": [
    "### 3-3"
   ]
  },
  {
   "cell_type": "code",
   "execution_count": 21,
   "id": "14e10f19",
   "metadata": {},
   "outputs": [
    {
     "data": {
      "text/plain": [
       "1.9999980926513672"
      ]
     },
     "execution_count": 21,
     "metadata": {},
     "output_type": "execute_result"
    }
   ],
   "source": [
    "def ex3_3(a, r, n):\n",
    "  return a * (r ** n - 1) / (r - 1)\n",
    "\n",
    "ex3_3(1, 0.5, 20)"
   ]
  },
  {
   "cell_type": "markdown",
   "id": "794e5029",
   "metadata": {},
   "source": [
    "### 3-4"
   ]
  },
  {
   "cell_type": "code",
   "execution_count": 22,
   "id": "eb8787f6",
   "metadata": {},
   "outputs": [
    {
     "data": {
      "text/plain": [
       "12.0"
      ]
     },
     "execution_count": 22,
     "metadata": {},
     "output_type": "execute_result"
    }
   ],
   "source": [
    "def ex3_4(vp, vs, t):\n",
    "  return (vp * vs) / (vp - vs) * t\n",
    "\n",
    "ex3_4(6, 3, 2.0)"
   ]
  },
  {
   "cell_type": "markdown",
   "id": "b107f901",
   "metadata": {},
   "source": [
    "### 3-5"
   ]
  },
  {
   "cell_type": "code",
   "execution_count": 23,
   "id": "28bf1c76",
   "metadata": {},
   "outputs": [
    {
     "data": {
      "text/plain": [
       "12.0"
      ]
     },
     "execution_count": 23,
     "metadata": {},
     "output_type": "execute_result"
    }
   ],
   "source": [
    "def ex3_5(t):\n",
    "  return ex3_4(6, 3, t)\n",
    "\n",
    "ex3_5(2.0)"
   ]
  },
  {
   "cell_type": "markdown",
   "id": "a6f0c62a",
   "metadata": {},
   "source": [
    "### 3-6"
   ]
  },
  {
   "cell_type": "code",
   "execution_count": 24,
   "id": "64f8d6fd",
   "metadata": {},
   "outputs": [
    {
     "name": "stdout",
     "output_type": "stream",
     "text": [
      "A = 18.0 B = 8.0\n",
      "Arithmetic mean: 13.0\n",
      "Geometric mean: 12.0\n"
     ]
    }
   ],
   "source": [
    "def ex3_6(a, b):\n",
    "  print('A =', a, 'B =', b)\n",
    "  print('Arithmetic mean:', (a + b) / 2)\n",
    "  print('Geometric mean:', (a * b) ** 0.5)\n",
    "\n",
    "ex3_6(18.0, 8.0)"
   ]
  },
  {
   "cell_type": "markdown",
   "id": "8f692a60",
   "metadata": {},
   "source": [
    "### 3-7"
   ]
  },
  {
   "cell_type": "code",
   "execution_count": 25,
   "id": "9e4c4bd2",
   "metadata": {},
   "outputs": [
    {
     "data": {
      "text/plain": [
       "1.0471975511965976"
      ]
     },
     "execution_count": 25,
     "metadata": {},
     "output_type": "execute_result"
    }
   ],
   "source": [
    "def ex3_7(deg):\n",
    "  return 2 * math.pi * deg / 360\n",
    "\n",
    "ex3_7(60)"
   ]
  },
  {
   "cell_type": "markdown",
   "id": "654c4fc9",
   "metadata": {},
   "source": [
    "### 3-8"
   ]
  },
  {
   "cell_type": "code",
   "execution_count": 26,
   "id": "5dd7aa5c",
   "metadata": {},
   "outputs": [
    {
     "name": "stdout",
     "output_type": "stream",
     "text": [
      "0.8660254037844386\n",
      "0.5000000000000001\n"
     ]
    }
   ],
   "source": [
    "def ex3_8_sin(deg):\n",
    "  return math.sin(ex3_7(deg))\n",
    "\n",
    "print(ex3_8_sin(60))\n",
    "\n",
    "def ex3_8_cos(deg):\n",
    "  return math.cos(ex3_7(deg))\n",
    "\n",
    "print(ex3_8_cos(60))\n"
   ]
  },
  {
   "cell_type": "markdown",
   "id": "d3f972ac",
   "metadata": {},
   "source": [
    "### 3-9"
   ]
  },
  {
   "cell_type": "code",
   "execution_count": 27,
   "id": "941a0713",
   "metadata": {},
   "outputs": [
    {
     "name": "stdout",
     "output_type": "stream",
     "text": [
      "0.13397459621556163\n",
      "2.232050807568877\n"
     ]
    }
   ],
   "source": [
    "def ex3_9_x(x, y, deg):\n",
    "  return x * ex3_8_cos(deg) - y * ex3_8_sin(deg)\n",
    "print(ex3_9_x(2, 1, 60))\n",
    "\n",
    "def ex3_9_y(x, y, deg):\n",
    "  return x * ex3_8_sin(deg) + y * ex3_8_cos(deg)\n",
    "print(ex3_9_y(2, 1, 60))"
   ]
  },
  {
   "cell_type": "markdown",
   "id": "3ce68f2b",
   "metadata": {},
   "source": [
    "### Chapter4"
   ]
  },
  {
   "cell_type": "markdown",
   "id": "7a6adb6a",
   "metadata": {},
   "source": [
    "### 4-1"
   ]
  },
  {
   "cell_type": "code",
   "execution_count": 28,
   "id": "0e8acc6c",
   "metadata": {},
   "outputs": [
    {
     "name": "stdout",
     "output_type": "stream",
     "text": [
      "0\n",
      "1\n",
      "2\n",
      "3\n",
      "4\n",
      "5\n"
     ]
    }
   ],
   "source": [
    "def ex4_1(n):\n",
    "  for i in range(0, n+1):\n",
    "    print(i)\n",
    "    \n",
    "ex4_1(5)"
   ]
  },
  {
   "cell_type": "markdown",
   "id": "fce943a0",
   "metadata": {},
   "source": [
    "### 4-2"
   ]
  },
  {
   "cell_type": "code",
   "execution_count": 29,
   "id": "1457a681",
   "metadata": {},
   "outputs": [
    {
     "data": {
      "text/plain": [
       "3"
      ]
     },
     "execution_count": 29,
     "metadata": {},
     "output_type": "execute_result"
    }
   ],
   "source": [
    "def ex4_2(x):\n",
    "  m = 0\n",
    "  for i in range(1, len(x)):\n",
    "    if x[m] < x[i]:\n",
    "      m = i\n",
    "  return m\n",
    "\n",
    "ex4_2([4, 1, 2, 9, 6, 9])"
   ]
  },
  {
   "cell_type": "markdown",
   "id": "ee80985a",
   "metadata": {},
   "source": [
    "### 4-3"
   ]
  },
  {
   "cell_type": "code",
   "execution_count": 30,
   "id": "22167114",
   "metadata": {},
   "outputs": [
    {
     "data": {
      "text/plain": [
       "14"
      ]
     },
     "execution_count": 30,
     "metadata": {},
     "output_type": "execute_result"
    }
   ],
   "source": [
    "def ex4_3(x):\n",
    "  s = 0\n",
    "  for i in range(0, len(x)):\n",
    "    if x[i] > 0:\n",
    "      s = s + x[i]\n",
    "    else:\n",
    "      s = s - x[i]\n",
    "  return s\n",
    "\n",
    "ex4_3([-2, 1, 6,-5])"
   ]
  },
  {
   "cell_type": "markdown",
   "id": "6ed5da98",
   "metadata": {},
   "source": [
    "### 4-4"
   ]
  },
  {
   "cell_type": "code",
   "execution_count": 31,
   "id": "446395bd",
   "metadata": {},
   "outputs": [
    {
     "data": {
      "text/plain": [
       "9.643650760992955"
      ]
     },
     "execution_count": 31,
     "metadata": {},
     "output_type": "execute_result"
    }
   ],
   "source": [
    "def ex4_4(x, y):\n",
    "  s = 0\n",
    "  for i in range(0, len(x)):\n",
    "    s = s + (x[i] - y[i]) ** 2\n",
    "  return s ** 0.5\n",
    "\n",
    "ex4_4([-2, 1, 6], [3, -1, -2])"
   ]
  },
  {
   "cell_type": "markdown",
   "id": "28062505",
   "metadata": {},
   "source": [
    "### 4-5"
   ]
  },
  {
   "cell_type": "code",
   "execution_count": 32,
   "id": "a08c950a",
   "metadata": {},
   "outputs": [
    {
     "data": {
      "text/plain": [
       "634"
      ]
     },
     "execution_count": 32,
     "metadata": {},
     "output_type": "execute_result"
    }
   ],
   "source": [
    "def ex4_5(x):\n",
    "  s = 0\n",
    "  for i in range(0, len(x)):\n",
    "    s = s * 10 + x[i]\n",
    "  return s\n",
    "\n",
    "ex4_5([6, 3, 4])"
   ]
  },
  {
   "cell_type": "markdown",
   "id": "13025b38",
   "metadata": {},
   "source": [
    "### 4-6"
   ]
  },
  {
   "cell_type": "code",
   "execution_count": 33,
   "id": "7e9a1f5a",
   "metadata": {},
   "outputs": [
    {
     "name": "stdout",
     "output_type": "stream",
     "text": [
      "0.0\n"
     ]
    }
   ],
   "source": [
    "import numpy as np\n",
    "\n",
    "def variancel1(scores):\n",
    "  s = 0\n",
    "  for i in range(0, len(scores)):\n",
    "    s = s + (scores[i] - np.average(scores)) ** 2\n",
    "  return s / len(scores)\n",
    "\n",
    "print(variancel1([10, 10, 10 ,10]))\n"
   ]
  },
  {
   "cell_type": "markdown",
   "id": "dbddee92",
   "metadata": {},
   "source": [
    "### 4-7"
   ]
  },
  {
   "cell_type": "code",
   "execution_count": 34,
   "id": "9801bf41",
   "metadata": {},
   "outputs": [
    {
     "data": {
      "text/plain": [
       "8"
      ]
     },
     "execution_count": 34,
     "metadata": {},
     "output_type": "execute_result"
    }
   ],
   "source": [
    "def ex4_7(a, b, c):\n",
    "  if a <= b <= c or c <= b <= a:\n",
    "    return b\n",
    "  elif a <= c <= b or b <= c <= a:\n",
    "    return c\n",
    "  else: \n",
    "    return a\n",
    "\n",
    "ex4_7(14, -2, 8)"
   ]
  },
  {
   "cell_type": "markdown",
   "id": "c5beb140",
   "metadata": {},
   "source": [
    "### 4-8"
   ]
  },
  {
   "cell_type": "code",
   "execution_count": 35,
   "id": "1a22e152",
   "metadata": {},
   "outputs": [
    {
     "data": {
      "text/plain": [
       "6"
      ]
     },
     "execution_count": 35,
     "metadata": {},
     "output_type": "execute_result"
    }
   ],
   "source": [
    "def ex4_8(x):\n",
    "  if x[0] > x[1]:\n",
    "    m1 = x[0]\n",
    "    m2 = x[1]\n",
    "  else: \n",
    "    m1 = x[1]\n",
    "    m2 = x[0]\n",
    "  for i in range(2, len(x)):\n",
    "    if x[i] > m1:\n",
    "      m2 = m1\n",
    "      m1 = x[i]\n",
    "    elif x[i] > m2:\n",
    "      m2 = x[i]\n",
    "  return m2\n",
    "\n",
    "ex4_8([-2, 8, 6, 1])"
   ]
  },
  {
   "cell_type": "markdown",
   "id": "a1348862",
   "metadata": {},
   "source": [
    "### 4-9"
   ]
  },
  {
   "cell_type": "markdown",
   "id": "830f0f54",
   "metadata": {},
   "source": [
    "#### 分かりません"
   ]
  },
  {
   "cell_type": "markdown",
   "id": "da2d83b0",
   "metadata": {},
   "source": [
    "### 4-10"
   ]
  },
  {
   "cell_type": "markdown",
   "id": "22740f44",
   "metadata": {},
   "source": [
    "#### 分かりません"
   ]
  }
 ],
 "metadata": {
  "kernelspec": {
   "display_name": "Python 3 (ipykernel)",
   "language": "python",
   "name": "python3"
  },
  "language_info": {
   "codemirror_mode": {
    "name": "ipython",
    "version": 3
   },
   "file_extension": ".py",
   "mimetype": "text/x-python",
   "name": "python",
   "nbconvert_exporter": "python",
   "pygments_lexer": "ipython3",
   "version": "3.9.7"
  }
 },
 "nbformat": 4,
 "nbformat_minor": 5
}
